{
 "cells": [
  {
   "cell_type": "markdown",
   "metadata": {},
   "source": [
    "# Senate Voting Test\n",
    "\n",
    "_James Weichert_"
   ]
  },
  {
   "cell_type": "code",
   "execution_count": 1,
   "metadata": {},
   "outputs": [],
   "source": [
    "import pandas as pd\n",
    "import numpy as np\n",
    "import bpr\n",
    "\n",
    "import chart_studio.plotly as pl\n",
    "import plotly.graph_objects as go\n",
    "from ipywidgets import widgets"
   ]
  },
  {
   "cell_type": "code",
   "execution_count": 3,
   "metadata": {},
   "outputs": [],
   "source": [
    "current_senate = pd.read_csv('Data/party_data.csv', index_col=0)\n",
    "new_senate = pd.read_csv('Data/new_senate.csv', index_col=0)"
   ]
  },
  {
   "cell_type": "code",
   "execution_count": 4,
   "metadata": {},
   "outputs": [
    {
     "data": {
      "text/html": [
       "<div>\n",
       "<style scoped>\n",
       "    .dataframe tbody tr th:only-of-type {\n",
       "        vertical-align: middle;\n",
       "    }\n",
       "\n",
       "    .dataframe tbody tr th {\n",
       "        vertical-align: top;\n",
       "    }\n",
       "\n",
       "    .dataframe thead th {\n",
       "        text-align: right;\n",
       "    }\n",
       "</style>\n",
       "<table border=\"1\" class=\"dataframe\">\n",
       "  <thead>\n",
       "    <tr style=\"text-align: right;\">\n",
       "      <th></th>\n",
       "      <th>State</th>\n",
       "      <th>Population (2018)</th>\n",
       "      <th>U.S. House Seats</th>\n",
       "      <th>Senators</th>\n",
       "      <th>PVI</th>\n",
       "      <th>D_share</th>\n",
       "      <th>R_share</th>\n",
       "    </tr>\n",
       "  </thead>\n",
       "  <tbody>\n",
       "    <tr>\n",
       "      <th>0</th>\n",
       "      <td>AL</td>\n",
       "      <td>4887871</td>\n",
       "      <td>7</td>\n",
       "      <td>2</td>\n",
       "      <td>-14</td>\n",
       "      <td>43.0</td>\n",
       "      <td>57.0</td>\n",
       "    </tr>\n",
       "    <tr>\n",
       "      <th>1</th>\n",
       "      <td>AK</td>\n",
       "      <td>737438</td>\n",
       "      <td>1</td>\n",
       "      <td>2</td>\n",
       "      <td>-9</td>\n",
       "      <td>45.5</td>\n",
       "      <td>54.5</td>\n",
       "    </tr>\n",
       "    <tr>\n",
       "      <th>2</th>\n",
       "      <td>AZ</td>\n",
       "      <td>7171646</td>\n",
       "      <td>9</td>\n",
       "      <td>2</td>\n",
       "      <td>-5</td>\n",
       "      <td>47.5</td>\n",
       "      <td>52.5</td>\n",
       "    </tr>\n",
       "    <tr>\n",
       "      <th>3</th>\n",
       "      <td>AR</td>\n",
       "      <td>3013825</td>\n",
       "      <td>4</td>\n",
       "      <td>2</td>\n",
       "      <td>-15</td>\n",
       "      <td>42.5</td>\n",
       "      <td>57.5</td>\n",
       "    </tr>\n",
       "    <tr>\n",
       "      <th>4</th>\n",
       "      <td>CA</td>\n",
       "      <td>39557045</td>\n",
       "      <td>53</td>\n",
       "      <td>2</td>\n",
       "      <td>12</td>\n",
       "      <td>56.0</td>\n",
       "      <td>44.0</td>\n",
       "    </tr>\n",
       "  </tbody>\n",
       "</table>\n",
       "</div>"
      ],
      "text/plain": [
       "  State  Population (2018)  U.S. House Seats  Senators  PVI  D_share  R_share\n",
       "0    AL            4887871                 7         2  -14     43.0     57.0\n",
       "1    AK             737438                 1         2   -9     45.5     54.5\n",
       "2    AZ            7171646                 9         2   -5     47.5     52.5\n",
       "3    AR            3013825                 4         2  -15     42.5     57.5\n",
       "4    CA           39557045                53         2   12     56.0     44.0"
      ]
     },
     "execution_count": 4,
     "metadata": {},
     "output_type": "execute_result"
    }
   ],
   "source": [
    "current_senate.head()"
   ]
  },
  {
   "cell_type": "code",
   "execution_count": 5,
   "metadata": {},
   "outputs": [
    {
     "data": {
      "text/html": [
       "<div>\n",
       "<style scoped>\n",
       "    .dataframe tbody tr th:only-of-type {\n",
       "        vertical-align: middle;\n",
       "    }\n",
       "\n",
       "    .dataframe tbody tr th {\n",
       "        vertical-align: top;\n",
       "    }\n",
       "\n",
       "    .dataframe thead th {\n",
       "        text-align: right;\n",
       "    }\n",
       "</style>\n",
       "<table border=\"1\" class=\"dataframe\">\n",
       "  <thead>\n",
       "    <tr style=\"text-align: right;\">\n",
       "      <th></th>\n",
       "      <th>State</th>\n",
       "      <th>Population (2018)</th>\n",
       "      <th>Senators</th>\n",
       "      <th>Rem_Pop</th>\n",
       "      <th>Change</th>\n",
       "      <th>PPS</th>\n",
       "      <th>PVI</th>\n",
       "      <th>D_share</th>\n",
       "      <th>R_share</th>\n",
       "    </tr>\n",
       "  </thead>\n",
       "  <tbody>\n",
       "    <tr>\n",
       "      <th>0</th>\n",
       "      <td>AL</td>\n",
       "      <td>4887871</td>\n",
       "      <td>1</td>\n",
       "      <td>1623221.0</td>\n",
       "      <td>-1.0</td>\n",
       "      <td>4.887871e+06</td>\n",
       "      <td>-14</td>\n",
       "      <td>43.0</td>\n",
       "      <td>57.0</td>\n",
       "    </tr>\n",
       "    <tr>\n",
       "      <th>1</th>\n",
       "      <td>AK</td>\n",
       "      <td>737438</td>\n",
       "      <td>1</td>\n",
       "      <td>0.0</td>\n",
       "      <td>-1.0</td>\n",
       "      <td>7.374380e+05</td>\n",
       "      <td>-9</td>\n",
       "      <td>45.5</td>\n",
       "      <td>54.5</td>\n",
       "    </tr>\n",
       "    <tr>\n",
       "      <th>2</th>\n",
       "      <td>AZ</td>\n",
       "      <td>7171646</td>\n",
       "      <td>2</td>\n",
       "      <td>642346.0</td>\n",
       "      <td>0.0</td>\n",
       "      <td>3.585823e+06</td>\n",
       "      <td>-5</td>\n",
       "      <td>47.5</td>\n",
       "      <td>52.5</td>\n",
       "    </tr>\n",
       "    <tr>\n",
       "      <th>3</th>\n",
       "      <td>AR</td>\n",
       "      <td>3013825</td>\n",
       "      <td>1</td>\n",
       "      <td>0.0</td>\n",
       "      <td>-1.0</td>\n",
       "      <td>3.013825e+06</td>\n",
       "      <td>-15</td>\n",
       "      <td>42.5</td>\n",
       "      <td>57.5</td>\n",
       "    </tr>\n",
       "    <tr>\n",
       "      <th>4</th>\n",
       "      <td>CA</td>\n",
       "      <td>39557045</td>\n",
       "      <td>12</td>\n",
       "      <td>381245.0</td>\n",
       "      <td>1.0</td>\n",
       "      <td>3.296420e+06</td>\n",
       "      <td>12</td>\n",
       "      <td>56.0</td>\n",
       "      <td>44.0</td>\n",
       "    </tr>\n",
       "  </tbody>\n",
       "</table>\n",
       "</div>"
      ],
      "text/plain": [
       "  State  Population (2018)  Senators    Rem_Pop  Change           PPS  PVI  \\\n",
       "0    AL            4887871         1  1623221.0    -1.0  4.887871e+06  -14   \n",
       "1    AK             737438         1        0.0    -1.0  7.374380e+05   -9   \n",
       "2    AZ            7171646         2   642346.0     0.0  3.585823e+06   -5   \n",
       "3    AR            3013825         1        0.0    -1.0  3.013825e+06  -15   \n",
       "4    CA           39557045        12   381245.0     1.0  3.296420e+06   12   \n",
       "\n",
       "   D_share  R_share  \n",
       "0     43.0     57.0  \n",
       "1     45.5     54.5  \n",
       "2     47.5     52.5  \n",
       "3     42.5     57.5  \n",
       "4     56.0     44.0  "
      ]
     },
     "execution_count": 5,
     "metadata": {},
     "output_type": "execute_result"
    }
   ],
   "source": [
    "new_senate.head()"
   ]
  },
  {
   "cell_type": "code",
   "execution_count": 99,
   "metadata": {},
   "outputs": [],
   "source": [
    "np.random.seed()"
   ]
  },
  {
   "cell_type": "code",
   "execution_count": 100,
   "metadata": {},
   "outputs": [],
   "source": [
    "data = current_senate"
   ]
  },
  {
   "cell_type": "code",
   "execution_count": 1343,
   "metadata": {},
   "outputs": [],
   "source": [
    "def simulate_election(data, turnout=0.56, turnout_variability = 0.05, voting_age_pop=0.77, swing_vote_percent=0.10, swing_factor=1, rand=False):\n",
    "    \n",
    "    data['D_sen'] = 0\n",
    "    data['R_sen'] = 0\n",
    "\n",
    "    for state in range(50): \n",
    "        \n",
    "        registered_voters = int(data.loc[state, 'Population (2018)'] * voting_age_pop)\n",
    "        \n",
    "        prev_margin = 0\n",
    "        \n",
    "        for seat in range(data.loc[state, 'Senators']):\n",
    "            \n",
    "            election_turnout = turnout\n",
    "           \n",
    "            if rand:\n",
    "                election_turnout += (np.random.random() * 2 * turnout_variability) - turnout_variability\n",
    "\n",
    "            voters = registered_voters * election_turnout\n",
    "            \n",
    "            \n",
    "            swing_vote_preference = ((50 + (prev_margin / voters)) / 100) * swing_factor\n",
    "            #Weird method below\n",
    "            #swing_vote_preference = (50.1 + (prev_margin / voters) + 10 * (data.loc[state, 'D_share'] - data.loc[state, 'R_share'])) / 100 * swing_factor\n",
    "            \n",
    "            #if data.loc[state, 'D_sen'] + data.loc[state, 'R_sen'] > 0:\n",
    "             #   swing_vote_preference = (data.loc[state, 'D_share'] / (data.loc[state, 'D_sen'] + 2)) - (data.loc[state, 'R_share'] / (data.loc[state, 'R_sen'] + 2))\n",
    "\n",
    "\n",
    "            if rand:\n",
    "                swing_vote_preference *= ((np.random.random() * 2 * swing_factor) - swing_factor)    \n",
    "\n",
    "            \n",
    "            d_vote_share = int((voters * (1 - swing_vote_percent)) * (data.loc[state, 'D_share'] / 100) + swing_vote_preference * swing_vote_percent * voters)\n",
    "            r_vote_share = int(voters - d_vote_share)\n",
    "            \n",
    "            prev_margin += d_vote_share - r_vote_share\n",
    "            \n",
    "            #print(data.loc[state, 'State'], d_vote_share, r_vote_share)\n",
    "            \n",
    "            if d_vote_share > r_vote_share:\n",
    "                data.loc[state, 'D_sen'] += 1\n",
    "            elif r_vote_share > d_vote_share:\n",
    "                data.loc[state, 'R_sen'] += 1\n",
    "            else:\n",
    "                r = np.random.rand()\n",
    "                \n",
    "                if r < 0.5:\n",
    "                    data.loc[state, 'D_sen'] += 1\n",
    "                else:\n",
    "                    data.loc[state, 'R_sen'] += 1\n",
    "    \n",
    "    data['Senate_Scale'] = data['R_sen'] / data['Senators']\n",
    "    \n",
    "    return data"
   ]
  },
  {
   "cell_type": "code",
   "execution_count": 1344,
   "metadata": {},
   "outputs": [
    {
     "data": {
      "text/html": [
       "<div>\n",
       "<style scoped>\n",
       "    .dataframe tbody tr th:only-of-type {\n",
       "        vertical-align: middle;\n",
       "    }\n",
       "\n",
       "    .dataframe tbody tr th {\n",
       "        vertical-align: top;\n",
       "    }\n",
       "\n",
       "    .dataframe thead th {\n",
       "        text-align: right;\n",
       "    }\n",
       "</style>\n",
       "<table border=\"1\" class=\"dataframe\">\n",
       "  <thead>\n",
       "    <tr style=\"text-align: right;\">\n",
       "      <th></th>\n",
       "      <th>State</th>\n",
       "      <th>Population (2018)</th>\n",
       "      <th>U.S. House Seats</th>\n",
       "      <th>Senators</th>\n",
       "      <th>PVI</th>\n",
       "      <th>D_share</th>\n",
       "      <th>R_share</th>\n",
       "      <th>D_sen</th>\n",
       "      <th>R_sen</th>\n",
       "      <th>Senate_Scale</th>\n",
       "    </tr>\n",
       "  </thead>\n",
       "  <tbody>\n",
       "    <tr>\n",
       "      <th>0</th>\n",
       "      <td>AL</td>\n",
       "      <td>4887871</td>\n",
       "      <td>7</td>\n",
       "      <td>2</td>\n",
       "      <td>-14</td>\n",
       "      <td>43.0</td>\n",
       "      <td>57.0</td>\n",
       "      <td>0</td>\n",
       "      <td>2</td>\n",
       "      <td>1.0</td>\n",
       "    </tr>\n",
       "    <tr>\n",
       "      <th>1</th>\n",
       "      <td>AK</td>\n",
       "      <td>737438</td>\n",
       "      <td>1</td>\n",
       "      <td>2</td>\n",
       "      <td>-9</td>\n",
       "      <td>45.5</td>\n",
       "      <td>54.5</td>\n",
       "      <td>0</td>\n",
       "      <td>2</td>\n",
       "      <td>1.0</td>\n",
       "    </tr>\n",
       "    <tr>\n",
       "      <th>2</th>\n",
       "      <td>AZ</td>\n",
       "      <td>7171646</td>\n",
       "      <td>9</td>\n",
       "      <td>2</td>\n",
       "      <td>-5</td>\n",
       "      <td>47.5</td>\n",
       "      <td>52.5</td>\n",
       "      <td>0</td>\n",
       "      <td>2</td>\n",
       "      <td>1.0</td>\n",
       "    </tr>\n",
       "    <tr>\n",
       "      <th>3</th>\n",
       "      <td>AR</td>\n",
       "      <td>3013825</td>\n",
       "      <td>4</td>\n",
       "      <td>2</td>\n",
       "      <td>-15</td>\n",
       "      <td>42.5</td>\n",
       "      <td>57.5</td>\n",
       "      <td>0</td>\n",
       "      <td>2</td>\n",
       "      <td>1.0</td>\n",
       "    </tr>\n",
       "    <tr>\n",
       "      <th>4</th>\n",
       "      <td>CA</td>\n",
       "      <td>39557045</td>\n",
       "      <td>53</td>\n",
       "      <td>2</td>\n",
       "      <td>12</td>\n",
       "      <td>56.0</td>\n",
       "      <td>44.0</td>\n",
       "      <td>2</td>\n",
       "      <td>0</td>\n",
       "      <td>0.0</td>\n",
       "    </tr>\n",
       "  </tbody>\n",
       "</table>\n",
       "</div>"
      ],
      "text/plain": [
       "  State  Population (2018)  U.S. House Seats  Senators  PVI  D_share  R_share  \\\n",
       "0    AL            4887871                 7         2  -14     43.0     57.0   \n",
       "1    AK             737438                 1         2   -9     45.5     54.5   \n",
       "2    AZ            7171646                 9         2   -5     47.5     52.5   \n",
       "3    AR            3013825                 4         2  -15     42.5     57.5   \n",
       "4    CA           39557045                53         2   12     56.0     44.0   \n",
       "\n",
       "   D_sen  R_sen  Senate_Scale  \n",
       "0      0      2           1.0  \n",
       "1      0      2           1.0  \n",
       "2      0      2           1.0  \n",
       "3      0      2           1.0  \n",
       "4      2      0           0.0  "
      ]
     },
     "execution_count": 1344,
     "metadata": {},
     "output_type": "execute_result"
    }
   ],
   "source": [
    "curr_senate_voted = simulate_election(current_senate, rand=False)\n",
    "curr_senate_voted.head()"
   ]
  },
  {
   "cell_type": "code",
   "execution_count": 1319,
   "metadata": {},
   "outputs": [],
   "source": [
    "def check_composition(data):\n",
    "    \n",
    "    d_senate_num = np.sum(data['D_sen'])\n",
    "    r_senate_num = np.sum(data['R_sen'])\n",
    "    senate_total = np.sum(data['Senators'])\n",
    "    return r_senate_num, d_senate_num"
   ]
  },
  {
   "cell_type": "code",
   "execution_count": 1320,
   "metadata": {},
   "outputs": [],
   "source": [
    "r, d = check_composition(curr_senate_voted)"
   ]
  },
  {
   "cell_type": "code",
   "execution_count": 1321,
   "metadata": {},
   "outputs": [],
   "source": [
    "vap = widgets.FloatSlider(\n",
    "    value = 0.77,\n",
    "    min=0.01,\n",
    "    max=1,\n",
    "    step=0.01,\n",
    "    description='Voting Pop:',\n",
    "    continuous_update=False\n",
    ")"
   ]
  },
  {
   "cell_type": "code",
   "execution_count": 1322,
   "metadata": {},
   "outputs": [],
   "source": [
    "turnout = widgets.FloatSlider(\n",
    "    value = 0.56,\n",
    "    min=0.0,\n",
    "    max=1.0,\n",
    "    step=0.01,\n",
    "    description='Turnout:',\n",
    "    continuous_update=False\n",
    ")"
   ]
  },
  {
   "cell_type": "code",
   "execution_count": 1323,
   "metadata": {},
   "outputs": [],
   "source": [
    "turnout_var = widgets.FloatSlider(\n",
    "    value = 0.05,\n",
    "    min=0.0,\n",
    "    max=1.0 - turnout.value,\n",
    "    step=0.01,\n",
    "    description='Turnout Var:',\n",
    "    continuous_update=False\n",
    ")"
   ]
  },
  {
   "cell_type": "code",
   "execution_count": 1324,
   "metadata": {},
   "outputs": [],
   "source": [
    "swing_vote_percentage = widgets.FloatSlider(\n",
    "    value = 0.05,\n",
    "    min=0.0,\n",
    "    max=0.50,\n",
    "    step=0.01,\n",
    "    description='Swing %:',\n",
    "    continuous_update=False\n",
    ")"
   ]
  },
  {
   "cell_type": "code",
   "execution_count": 1325,
   "metadata": {},
   "outputs": [],
   "source": [
    "swing_impact = widgets.FloatSlider(\n",
    "    value = 0.1,\n",
    "    min=0.0,\n",
    "    max=0.20,\n",
    "    step=0.01,\n",
    "    description='Swing Impact:',\n",
    "    continuous_update=False\n",
    ")"
   ]
  },
  {
   "cell_type": "code",
   "execution_count": 1326,
   "metadata": {},
   "outputs": [],
   "source": [
    "def response(change):\n",
    "    elected_sen = simulate_election(data, turnout=turnout.value, turnout_variability=turnout_var.value, voting_age_pop=vap.value, swing_vote_percent=swing_vote_percentage.value, swing_factor=swing_impact.value, rand=True)\n",
    "    r, d = check_composition(elected_sen)\n",
    "    with g.batch_update():\n",
    "            g.data[0].z = elected_sen['Senate_Scale']\n",
    "            hovertext =  'R: ' + new_senate_elections['R_sen'].map(str) + ' D: ' + new_senate_elections['D_sen'].map(str)\n",
    "            hoverinfo = 'location + text'\n",
    "    g.update_layout(\n",
    "        title_text = 'U.S. Senate (R: ' + str(r) + ' D: ' + str(d) + ')',\n",
    "    )"
   ]
  },
  {
   "cell_type": "code",
   "execution_count": 1327,
   "metadata": {},
   "outputs": [],
   "source": [
    "vap.observe(response, names=\"value\")\n",
    "turnout.observe(response, names=\"value\")\n",
    "turnout_var.observe(response, names=\"value\")\n",
    "swing_vote_percentage.observe(response, names=\"value\")\n",
    "swing_impact.observe(response, names=\"value\")"
   ]
  },
  {
   "cell_type": "code",
   "execution_count": 1370,
   "metadata": {
    "scrolled": false
   },
   "outputs": [
    {
     "data": {
      "application/vnd.jupyter.widget-view+json": {
       "model_id": "bb0a5cf6d7f141948fa0ce99692a0d90",
       "version_major": 2,
       "version_minor": 0
      },
      "text/plain": [
       "FigureWidget({\n",
       "    'data': [{'colorscale': [[0.0, '#444CA0'], [0.5, '#F2DDA9'], [1.0, '#A04555']],\n",
       "           …"
      ]
     },
     "metadata": {},
     "output_type": "display_data"
    }
   ],
   "source": [
    "g = go.FigureWidget(\n",
    "    data = go.Choropleth(\n",
    "        locations = current_senate['State'],\n",
    "        z = current_senate['Senate_Scale'].astype(float),\n",
    "        hovertext =  'R: ' + current_senate['R_sen'].map(str) + ' D: ' + current_senate['D_sen'].map(str),\n",
    "        hoverinfo = 'location + text',\n",
    "        locationmode = 'USA-states',\n",
    "        colorscale = bpr.safe_tossup,\n",
    "        showscale = False\n",
    "    )\n",
    ")\n",
    "\n",
    "g.update_layout(\n",
    "    title_text = 'U.S. Senate - Simulated Election (R: ' + str(r) + ' D: ' + str(d) + ')',\n",
    "    geo_scope = 'usa',\n",
    "    dragmode = False,\n",
    ")"
   ]
  },
  {
   "cell_type": "code",
   "execution_count": 1371,
   "metadata": {},
   "outputs": [
    {
     "data": {
      "text/html": [
       "\n",
       "        <iframe\n",
       "            width=\"100%\"\n",
       "            height=\"525px\"\n",
       "            src=\"https://plot.ly/~jamesweichert/38.embed\"\n",
       "            frameborder=\"0\"\n",
       "            allowfullscreen\n",
       "        ></iframe>\n",
       "        "
      ],
      "text/plain": [
       "<IPython.lib.display.IFrame at 0x1359853c8>"
      ]
     },
     "execution_count": 1371,
     "metadata": {},
     "output_type": "execute_result"
    }
   ],
   "source": [
    "pl.iplot(g, filename='CurrentSenateElection')"
   ]
  },
  {
   "cell_type": "code",
   "execution_count": null,
   "metadata": {},
   "outputs": [],
   "source": []
  },
  {
   "cell_type": "code",
   "execution_count": 1276,
   "metadata": {},
   "outputs": [
    {
     "data": {
      "application/vnd.jupyter.widget-view+json": {
       "model_id": "8fbcb00da0a34341b89339c0e1ffac8d",
       "version_major": 2,
       "version_minor": 0
      },
      "text/plain": [
       "VBox(children=(VBox(children=(FloatSlider(value=0.77, continuous_update=False, description='Voting Pop:', max=…"
      ]
     },
     "metadata": {},
     "output_type": "display_data"
    }
   ],
   "source": [
    "widgets.VBox([widgets.VBox([vap, turnout, turnout_var, swing_vote_percentage, swing_impact])])"
   ]
  },
  {
   "cell_type": "markdown",
   "metadata": {},
   "source": [
    "<hr />"
   ]
  },
  {
   "cell_type": "code",
   "execution_count": 977,
   "metadata": {},
   "outputs": [],
   "source": [
    "pl.sign_in(username='jamesweichert', api_key='PUK0jPsKi3P0P9SVW2x1')"
   ]
  },
  {
   "cell_type": "code",
   "execution_count": 1348,
   "metadata": {},
   "outputs": [],
   "source": [
    "new_senate_elections = simulate_election(new_senate, rand=False)\n",
    "nr, nd = check_composition(new_senate_elections)"
   ]
  },
  {
   "cell_type": "code",
   "execution_count": 1368,
   "metadata": {},
   "outputs": [
    {
     "data": {
      "application/vnd.jupyter.widget-view+json": {
       "model_id": "977bc27c3c8b49c0a688dd395d514a71",
       "version_major": 2,
       "version_minor": 0
      },
      "text/plain": [
       "FigureWidget({\n",
       "    'data': [{'colorscale': [[0.0, '#444CA0'], [0.16666666666666666, '#487EBF'],\n",
       "              …"
      ]
     },
     "metadata": {},
     "output_type": "display_data"
    }
   ],
   "source": [
    "h = go.FigureWidget(\n",
    "    data = go.Choropleth(\n",
    "        locations = new_senate_elections['State'],\n",
    "        z = new_senate_elections['Senate_Scale'].astype(float),\n",
    "        hovertext =  'R: ' + new_senate_elections['R_sen'].map(str) + ' D: ' + new_senate_elections['D_sen'].map(str),\n",
    "        hoverinfo = 'location + text',\n",
    "        locationmode = 'USA-states',\n",
    "        colorscale = bpr.safe_likely_leans_tossup,\n",
    "        showscale = False\n",
    "    )\n",
    ")\n",
    "\n",
    "h.update_layout(\n",
    "    title_text = 'Proportionally-Allocated U.S. Senate (R: ' + str(nr) + ' D: ' + str(nd) + ')',\n",
    "    geo_scope = 'usa',\n",
    "    dragmode = False\n",
    ")"
   ]
  },
  {
   "cell_type": "code",
   "execution_count": 1369,
   "metadata": {},
   "outputs": [
    {
     "data": {
      "text/html": [
       "\n",
       "        <iframe\n",
       "            width=\"100%\"\n",
       "            height=\"525px\"\n",
       "            src=\"https://plot.ly/~jamesweichert/34.embed\"\n",
       "            frameborder=\"0\"\n",
       "            allowfullscreen\n",
       "        ></iframe>\n",
       "        "
      ],
      "text/plain": [
       "<IPython.lib.display.IFrame at 0x136b32c50>"
      ]
     },
     "execution_count": 1369,
     "metadata": {},
     "output_type": "execute_result"
    }
   ],
   "source": [
    "pl.iplot(h, filename='NewSenatePartisan')"
   ]
  },
  {
   "cell_type": "code",
   "execution_count": 1363,
   "metadata": {},
   "outputs": [
    {
     "data": {
      "text/html": [
       "<div>\n",
       "<style scoped>\n",
       "    .dataframe tbody tr th:only-of-type {\n",
       "        vertical-align: middle;\n",
       "    }\n",
       "\n",
       "    .dataframe tbody tr th {\n",
       "        vertical-align: top;\n",
       "    }\n",
       "\n",
       "    .dataframe thead th {\n",
       "        text-align: right;\n",
       "    }\n",
       "</style>\n",
       "<table border=\"1\" class=\"dataframe\">\n",
       "  <thead>\n",
       "    <tr style=\"text-align: right;\">\n",
       "      <th></th>\n",
       "      <th>State</th>\n",
       "      <th>Population (2018)</th>\n",
       "      <th>U.S. House Seats</th>\n",
       "      <th>Senators</th>\n",
       "      <th>PVI</th>\n",
       "      <th>D_share</th>\n",
       "      <th>R_share</th>\n",
       "      <th>D_sen</th>\n",
       "      <th>R_sen</th>\n",
       "    </tr>\n",
       "  </thead>\n",
       "  <tbody>\n",
       "    <tr>\n",
       "      <th>0</th>\n",
       "      <td>AL</td>\n",
       "      <td>4887871</td>\n",
       "      <td>7</td>\n",
       "      <td>2</td>\n",
       "      <td>-14</td>\n",
       "      <td>43.0</td>\n",
       "      <td>57.0</td>\n",
       "      <td>1</td>\n",
       "      <td>1</td>\n",
       "    </tr>\n",
       "    <tr>\n",
       "      <th>1</th>\n",
       "      <td>AK</td>\n",
       "      <td>737438</td>\n",
       "      <td>1</td>\n",
       "      <td>2</td>\n",
       "      <td>-9</td>\n",
       "      <td>45.5</td>\n",
       "      <td>54.5</td>\n",
       "      <td>0</td>\n",
       "      <td>2</td>\n",
       "    </tr>\n",
       "    <tr>\n",
       "      <th>2</th>\n",
       "      <td>AZ</td>\n",
       "      <td>7171646</td>\n",
       "      <td>9</td>\n",
       "      <td>2</td>\n",
       "      <td>-5</td>\n",
       "      <td>47.5</td>\n",
       "      <td>52.5</td>\n",
       "      <td>1</td>\n",
       "      <td>1</td>\n",
       "    </tr>\n",
       "    <tr>\n",
       "      <th>3</th>\n",
       "      <td>AR</td>\n",
       "      <td>3013825</td>\n",
       "      <td>4</td>\n",
       "      <td>2</td>\n",
       "      <td>-15</td>\n",
       "      <td>42.5</td>\n",
       "      <td>57.5</td>\n",
       "      <td>0</td>\n",
       "      <td>2</td>\n",
       "    </tr>\n",
       "    <tr>\n",
       "      <th>4</th>\n",
       "      <td>CA</td>\n",
       "      <td>39557045</td>\n",
       "      <td>53</td>\n",
       "      <td>2</td>\n",
       "      <td>12</td>\n",
       "      <td>56.0</td>\n",
       "      <td>44.0</td>\n",
       "      <td>2</td>\n",
       "      <td>0</td>\n",
       "    </tr>\n",
       "  </tbody>\n",
       "</table>\n",
       "</div>"
      ],
      "text/plain": [
       "  State  Population (2018)  U.S. House Seats  Senators  PVI  D_share  R_share  \\\n",
       "0    AL            4887871                 7         2  -14     43.0     57.0   \n",
       "1    AK             737438                 1         2   -9     45.5     54.5   \n",
       "2    AZ            7171646                 9         2   -5     47.5     52.5   \n",
       "3    AR            3013825                 4         2  -15     42.5     57.5   \n",
       "4    CA           39557045                53         2   12     56.0     44.0   \n",
       "\n",
       "   D_sen  R_sen  \n",
       "0      1      1  \n",
       "1      0      2  \n",
       "2      1      1  \n",
       "3      0      2  \n",
       "4      2      0  "
      ]
     },
     "execution_count": 1363,
     "metadata": {},
     "output_type": "execute_result"
    }
   ],
   "source": [
    "real_senate = pd.read_csv('Data/party_data.csv', index_col=0)\n",
    "real_senate_seats_d = [1, 0, 1, 0, 2, 1, 2, 2, 0, 0, 2, 0, 2, 0, 0, 0, 0, 0, 1, 2, 2, 2, 2, 0, 0, 1, 0, 2, 2, 2, 2, 2, 0, 0, 1, 0, 2, 1, 2, 0, 0, 0, 0, 0, 2, 2, 2, 1, 1, 0]\n",
    "\n",
    "real_senate['D_sen'] = real_senate_seats_d\n",
    "real_senate['R_sen'] = 2 - real_senate['D_sen']\n",
    "real_senate.head()"
   ]
  },
  {
   "cell_type": "code",
   "execution_count": 1372,
   "metadata": {},
   "outputs": [
    {
     "data": {
      "application/vnd.jupyter.widget-view+json": {
       "model_id": "31b15b8cdfb94e289ca3d710b82d2264",
       "version_major": 2,
       "version_minor": 0
      },
      "text/plain": [
       "FigureWidget({\n",
       "    'data': [{'colorscale': [[0.0, '#444CA0'], [0.16666666666666666, '#487EBF'],\n",
       "              …"
      ]
     },
     "metadata": {},
     "output_type": "display_data"
    }
   ],
   "source": [
    "h = go.FigureWidget(\n",
    "    data = go.Choropleth(\n",
    "        locations = real_senate['State'],\n",
    "        z = (real_senate['R_sen'] - real_senate['D_sen']) / 2,\n",
    "        hovertext =  'R: ' + real_senate['R_sen'].map(str) + ' D: ' + real_senate['D_sen'].map(str),\n",
    "        hoverinfo = 'location + text',\n",
    "        locationmode = 'USA-states',\n",
    "        colorscale = bpr.safe_likely_leans_tossup,\n",
    "        showscale = False\n",
    "    )\n",
    ")\n",
    "\n",
    "h.update_layout(\n",
    "    title_text = 'U.S. Senate - Real Composition (R: ' + str(nr) + ' D: ' + str(nd) + ')',\n",
    "    geo_scope = 'usa',\n",
    "    dragmode = False\n",
    ")"
   ]
  },
  {
   "cell_type": "code",
   "execution_count": null,
   "metadata": {},
   "outputs": [],
   "source": []
  }
 ],
 "metadata": {
  "kernelspec": {
   "display_name": "Python 3",
   "language": "python",
   "name": "python3"
  },
  "language_info": {
   "codemirror_mode": {
    "name": "ipython",
    "version": 3
   },
   "file_extension": ".py",
   "mimetype": "text/x-python",
   "name": "python",
   "nbconvert_exporter": "python",
   "pygments_lexer": "ipython3",
   "version": "3.6.4"
  }
 },
 "nbformat": 4,
 "nbformat_minor": 2
}
